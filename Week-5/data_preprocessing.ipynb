{
 "cells": [
  {
   "cell_type": "markdown",
   "metadata": {},
   "source": [
    "### **Importing the libraries**"
   ]
  },
  {
   "cell_type": "code",
   "execution_count": 44,
   "metadata": {},
   "outputs": [],
   "source": [
    "import pandas as pd\n",
    "import seaborn as sns"
   ]
  },
  {
   "cell_type": "markdown",
   "metadata": {},
   "source": [
    "### **Loading the dataset**"
   ]
  },
  {
   "cell_type": "code",
   "execution_count": 45,
   "metadata": {},
   "outputs": [
    {
     "data": {
      "text/html": [
       "<div>\n",
       "<style scoped>\n",
       "    .dataframe tbody tr th:only-of-type {\n",
       "        vertical-align: middle;\n",
       "    }\n",
       "\n",
       "    .dataframe tbody tr th {\n",
       "        vertical-align: top;\n",
       "    }\n",
       "\n",
       "    .dataframe thead th {\n",
       "        text-align: right;\n",
       "    }\n",
       "</style>\n",
       "<table border=\"1\" class=\"dataframe\">\n",
       "  <thead>\n",
       "    <tr style=\"text-align: right;\">\n",
       "      <th></th>\n",
       "      <th>rank</th>\n",
       "      <th>year</th>\n",
       "      <th>duration</th>\n",
       "      <th>age_limit</th>\n",
       "      <th>rating</th>\n",
       "      <th>numberof_ratings</th>\n",
       "      <th>Metascore</th>\n",
       "      <th>description</th>\n",
       "      <th>name</th>\n",
       "    </tr>\n",
       "  </thead>\n",
       "  <tbody>\n",
       "    <tr>\n",
       "      <th>0</th>\n",
       "      <td>1</td>\n",
       "      <td>1994</td>\n",
       "      <td>2h 22m</td>\n",
       "      <td>15</td>\n",
       "      <td>9.3</td>\n",
       "      <td>(2.9M)</td>\n",
       "      <td>82.0</td>\n",
       "      <td>Over the course of several years, two convicts...</td>\n",
       "      <td>The Shawshank Redemption</td>\n",
       "    </tr>\n",
       "    <tr>\n",
       "      <th>1</th>\n",
       "      <td>2</td>\n",
       "      <td>1972</td>\n",
       "      <td>2h 55m</td>\n",
       "      <td>15</td>\n",
       "      <td>9.2</td>\n",
       "      <td>(2M)</td>\n",
       "      <td>100.0</td>\n",
       "      <td>The aging patriarch of an organized crime dyna...</td>\n",
       "      <td>The Godfather</td>\n",
       "    </tr>\n",
       "    <tr>\n",
       "      <th>2</th>\n",
       "      <td>3</td>\n",
       "      <td>2008</td>\n",
       "      <td>2h 32m</td>\n",
       "      <td>12A</td>\n",
       "      <td>9.0</td>\n",
       "      <td>(2.9M)</td>\n",
       "      <td>84.0</td>\n",
       "      <td>When the menace known as the Joker wreaks havo...</td>\n",
       "      <td>The Dark Knight</td>\n",
       "    </tr>\n",
       "    <tr>\n",
       "      <th>3</th>\n",
       "      <td>4</td>\n",
       "      <td>2003</td>\n",
       "      <td>3h 21m</td>\n",
       "      <td>12A</td>\n",
       "      <td>9.0</td>\n",
       "      <td>(2M)</td>\n",
       "      <td>94.0</td>\n",
       "      <td>Gandalf and Aragorn lead the World of Men agai...</td>\n",
       "      <td>The Lord of the Rings: The Return of the King</td>\n",
       "    </tr>\n",
       "    <tr>\n",
       "      <th>4</th>\n",
       "      <td>5</td>\n",
       "      <td>1993</td>\n",
       "      <td>3h 15m</td>\n",
       "      <td>15</td>\n",
       "      <td>9.0</td>\n",
       "      <td>(1.5M)</td>\n",
       "      <td>95.0</td>\n",
       "      <td>In German-occupied Poland during World War II,...</td>\n",
       "      <td>Schindler's List</td>\n",
       "    </tr>\n",
       "    <tr>\n",
       "      <th>...</th>\n",
       "      <td>...</td>\n",
       "      <td>...</td>\n",
       "      <td>...</td>\n",
       "      <td>...</td>\n",
       "      <td>...</td>\n",
       "      <td>...</td>\n",
       "      <td>...</td>\n",
       "      <td>...</td>\n",
       "      <td>...</td>\n",
       "    </tr>\n",
       "    <tr>\n",
       "      <th>995</th>\n",
       "      <td>996</td>\n",
       "      <td>1991</td>\n",
       "      <td>1h 56m</td>\n",
       "      <td>15</td>\n",
       "      <td>7.6</td>\n",
       "      <td>(129K)</td>\n",
       "      <td>69.0</td>\n",
       "      <td>A renowned New York playwright is enticed to C...</td>\n",
       "      <td>Barton Fink</td>\n",
       "    </tr>\n",
       "    <tr>\n",
       "      <th>996</th>\n",
       "      <td>997</td>\n",
       "      <td>1993</td>\n",
       "      <td>3h 8m</td>\n",
       "      <td>18</td>\n",
       "      <td>7.6</td>\n",
       "      <td>(48K)</td>\n",
       "      <td>81.0</td>\n",
       "      <td>The day-to-day lives of several suburban Los A...</td>\n",
       "      <td>Short Cuts</td>\n",
       "    </tr>\n",
       "    <tr>\n",
       "      <th>997</th>\n",
       "      <td>998</td>\n",
       "      <td>2007</td>\n",
       "      <td>2h 2m</td>\n",
       "      <td>15</td>\n",
       "      <td>7.6</td>\n",
       "      <td>(69K)</td>\n",
       "      <td>78.0</td>\n",
       "      <td>A profile of Ian Curtis, the enigmatic singer ...</td>\n",
       "      <td>Control</td>\n",
       "    </tr>\n",
       "    <tr>\n",
       "      <th>998</th>\n",
       "      <td>999</td>\n",
       "      <td>2013</td>\n",
       "      <td>1h 38m</td>\n",
       "      <td>12A</td>\n",
       "      <td>7.6</td>\n",
       "      <td>(104K)</td>\n",
       "      <td>77.0</td>\n",
       "      <td>A world-weary political journalist picks up th...</td>\n",
       "      <td>Philomena</td>\n",
       "    </tr>\n",
       "    <tr>\n",
       "      <th>999</th>\n",
       "      <td>1000</td>\n",
       "      <td>1975</td>\n",
       "      <td>1h 25m</td>\n",
       "      <td>PG</td>\n",
       "      <td>7.6</td>\n",
       "      <td>(41K)</td>\n",
       "      <td>89.0</td>\n",
       "      <td>In czarist Russia, a neurotic soldier and his ...</td>\n",
       "      <td>Love and Death</td>\n",
       "    </tr>\n",
       "  </tbody>\n",
       "</table>\n",
       "<p>1000 rows × 9 columns</p>\n",
       "</div>"
      ],
      "text/plain": [
       "     rank  year duration age_limit  rating numberof_ratings  Metascore  \\\n",
       "0       1  1994   2h 22m        15     9.3           (2.9M)       82.0   \n",
       "1       2  1972   2h 55m        15     9.2             (2M)      100.0   \n",
       "2       3  2008   2h 32m       12A     9.0           (2.9M)       84.0   \n",
       "3       4  2003   3h 21m       12A     9.0             (2M)       94.0   \n",
       "4       5  1993   3h 15m        15     9.0           (1.5M)       95.0   \n",
       "..    ...   ...      ...       ...     ...              ...        ...   \n",
       "995   996  1991   1h 56m        15     7.6           (129K)       69.0   \n",
       "996   997  1993    3h 8m        18     7.6            (48K)       81.0   \n",
       "997   998  2007    2h 2m        15     7.6            (69K)       78.0   \n",
       "998   999  2013   1h 38m       12A     7.6           (104K)       77.0   \n",
       "999  1000  1975   1h 25m        PG     7.6            (41K)       89.0   \n",
       "\n",
       "                                           description  \\\n",
       "0    Over the course of several years, two convicts...   \n",
       "1    The aging patriarch of an organized crime dyna...   \n",
       "2    When the menace known as the Joker wreaks havo...   \n",
       "3    Gandalf and Aragorn lead the World of Men agai...   \n",
       "4    In German-occupied Poland during World War II,...   \n",
       "..                                                 ...   \n",
       "995  A renowned New York playwright is enticed to C...   \n",
       "996  The day-to-day lives of several suburban Los A...   \n",
       "997  A profile of Ian Curtis, the enigmatic singer ...   \n",
       "998  A world-weary political journalist picks up th...   \n",
       "999  In czarist Russia, a neurotic soldier and his ...   \n",
       "\n",
       "                                               name  \n",
       "0                          The Shawshank Redemption  \n",
       "1                                     The Godfather  \n",
       "2                                   The Dark Knight  \n",
       "3     The Lord of the Rings: The Return of the King  \n",
       "4                                  Schindler's List  \n",
       "..                                              ...  \n",
       "995                                     Barton Fink  \n",
       "996                                      Short Cuts  \n",
       "997                                         Control  \n",
       "998                                       Philomena  \n",
       "999                                  Love and Death  \n",
       "\n",
       "[1000 rows x 9 columns]"
      ]
     },
     "execution_count": 45,
     "metadata": {},
     "output_type": "execute_result"
    }
   ],
   "source": [
    "df = pd.read_csv('imdb_kaggle.csv')\n",
    "df"
   ]
  },
  {
   "cell_type": "code",
   "execution_count": 46,
   "metadata": {},
   "outputs": [
    {
     "name": "stdout",
     "output_type": "stream",
     "text": [
      "<class 'pandas.core.frame.DataFrame'>\n",
      "RangeIndex: 1000 entries, 0 to 999\n",
      "Data columns (total 9 columns):\n",
      " #   Column            Non-Null Count  Dtype  \n",
      "---  ------            --------------  -----  \n",
      " 0   rank              1000 non-null   int64  \n",
      " 1   year              1000 non-null   int64  \n",
      " 2   duration          1000 non-null   object \n",
      " 3   age_limit         997 non-null    object \n",
      " 4   rating            1000 non-null   float64\n",
      " 5   numberof_ratings  1000 non-null   object \n",
      " 6   Metascore         842 non-null    float64\n",
      " 7   description       1000 non-null   object \n",
      " 8   name              1000 non-null   object \n",
      "dtypes: float64(2), int64(2), object(5)\n",
      "memory usage: 70.4+ KB\n"
     ]
    }
   ],
   "source": [
    "df.info()"
   ]
  },
  {
   "cell_type": "markdown",
   "metadata": {},
   "source": [
    "### **Dropping the irrelevant columns**"
   ]
  },
  {
   "cell_type": "code",
   "execution_count": 47,
   "metadata": {},
   "outputs": [],
   "source": [
    "cols = ['name', 'description']\n",
    "df = df.drop(cols, axis = 1)"
   ]
  },
  {
   "cell_type": "code",
   "execution_count": 48,
   "metadata": {},
   "outputs": [
    {
     "name": "stdout",
     "output_type": "stream",
     "text": [
      "<class 'pandas.core.frame.DataFrame'>\n",
      "RangeIndex: 1000 entries, 0 to 999\n",
      "Data columns (total 7 columns):\n",
      " #   Column            Non-Null Count  Dtype  \n",
      "---  ------            --------------  -----  \n",
      " 0   rank              1000 non-null   int64  \n",
      " 1   year              1000 non-null   int64  \n",
      " 2   duration          1000 non-null   object \n",
      " 3   age_limit         997 non-null    object \n",
      " 4   rating            1000 non-null   float64\n",
      " 5   numberof_ratings  1000 non-null   object \n",
      " 6   Metascore         842 non-null    float64\n",
      "dtypes: float64(2), int64(2), object(3)\n",
      "memory usage: 54.8+ KB\n"
     ]
    }
   ],
   "source": [
    "df.info()"
   ]
  },
  {
   "cell_type": "code",
   "execution_count": 49,
   "metadata": {},
   "outputs": [
    {
     "name": "stdout",
     "output_type": "stream",
     "text": [
      "['15' '12A' 'U' 'X' 'PG' '18' '12' 'Not Rated' 'AA' 'TV-MA' 'A' '16'\n",
      " 'PG-13' nan 'Approved' 'R' 'Rejected']\n"
     ]
    }
   ],
   "source": [
    "unique_values = df['age_limit'].unique()\n",
    "print(unique_values)"
   ]
  },
  {
   "cell_type": "code",
   "execution_count": 50,
   "metadata": {},
   "outputs": [],
   "source": [
    "df['age_limit'] = df['age_limit'].astype('category')\n",
    "df['age_limit'] = df['age_limit'].cat.codes"
   ]
  },
  {
   "cell_type": "code",
   "execution_count": 51,
   "metadata": {},
   "outputs": [
    {
     "data": {
      "text/html": [
       "<div>\n",
       "<style scoped>\n",
       "    .dataframe tbody tr th:only-of-type {\n",
       "        vertical-align: middle;\n",
       "    }\n",
       "\n",
       "    .dataframe tbody tr th {\n",
       "        vertical-align: top;\n",
       "    }\n",
       "\n",
       "    .dataframe thead th {\n",
       "        text-align: right;\n",
       "    }\n",
       "</style>\n",
       "<table border=\"1\" class=\"dataframe\">\n",
       "  <thead>\n",
       "    <tr style=\"text-align: right;\">\n",
       "      <th></th>\n",
       "      <th>rank</th>\n",
       "      <th>year</th>\n",
       "      <th>duration</th>\n",
       "      <th>age_limit</th>\n",
       "      <th>rating</th>\n",
       "      <th>numberof_ratings</th>\n",
       "      <th>Metascore</th>\n",
       "    </tr>\n",
       "  </thead>\n",
       "  <tbody>\n",
       "    <tr>\n",
       "      <th>0</th>\n",
       "      <td>1</td>\n",
       "      <td>1994</td>\n",
       "      <td>2h 22m</td>\n",
       "      <td>2</td>\n",
       "      <td>9.3</td>\n",
       "      <td>(2.9M)</td>\n",
       "      <td>82.0</td>\n",
       "    </tr>\n",
       "    <tr>\n",
       "      <th>1</th>\n",
       "      <td>2</td>\n",
       "      <td>1972</td>\n",
       "      <td>2h 55m</td>\n",
       "      <td>2</td>\n",
       "      <td>9.2</td>\n",
       "      <td>(2M)</td>\n",
       "      <td>100.0</td>\n",
       "    </tr>\n",
       "    <tr>\n",
       "      <th>2</th>\n",
       "      <td>3</td>\n",
       "      <td>2008</td>\n",
       "      <td>2h 32m</td>\n",
       "      <td>1</td>\n",
       "      <td>9.0</td>\n",
       "      <td>(2.9M)</td>\n",
       "      <td>84.0</td>\n",
       "    </tr>\n",
       "    <tr>\n",
       "      <th>3</th>\n",
       "      <td>4</td>\n",
       "      <td>2003</td>\n",
       "      <td>3h 21m</td>\n",
       "      <td>1</td>\n",
       "      <td>9.0</td>\n",
       "      <td>(2M)</td>\n",
       "      <td>94.0</td>\n",
       "    </tr>\n",
       "    <tr>\n",
       "      <th>4</th>\n",
       "      <td>5</td>\n",
       "      <td>1993</td>\n",
       "      <td>3h 15m</td>\n",
       "      <td>2</td>\n",
       "      <td>9.0</td>\n",
       "      <td>(1.5M)</td>\n",
       "      <td>95.0</td>\n",
       "    </tr>\n",
       "    <tr>\n",
       "      <th>...</th>\n",
       "      <td>...</td>\n",
       "      <td>...</td>\n",
       "      <td>...</td>\n",
       "      <td>...</td>\n",
       "      <td>...</td>\n",
       "      <td>...</td>\n",
       "      <td>...</td>\n",
       "    </tr>\n",
       "    <tr>\n",
       "      <th>995</th>\n",
       "      <td>996</td>\n",
       "      <td>1991</td>\n",
       "      <td>1h 56m</td>\n",
       "      <td>2</td>\n",
       "      <td>7.6</td>\n",
       "      <td>(129K)</td>\n",
       "      <td>69.0</td>\n",
       "    </tr>\n",
       "    <tr>\n",
       "      <th>996</th>\n",
       "      <td>997</td>\n",
       "      <td>1993</td>\n",
       "      <td>3h 8m</td>\n",
       "      <td>4</td>\n",
       "      <td>7.6</td>\n",
       "      <td>(48K)</td>\n",
       "      <td>81.0</td>\n",
       "    </tr>\n",
       "    <tr>\n",
       "      <th>997</th>\n",
       "      <td>998</td>\n",
       "      <td>2007</td>\n",
       "      <td>2h 2m</td>\n",
       "      <td>2</td>\n",
       "      <td>7.6</td>\n",
       "      <td>(69K)</td>\n",
       "      <td>78.0</td>\n",
       "    </tr>\n",
       "    <tr>\n",
       "      <th>998</th>\n",
       "      <td>999</td>\n",
       "      <td>2013</td>\n",
       "      <td>1h 38m</td>\n",
       "      <td>1</td>\n",
       "      <td>7.6</td>\n",
       "      <td>(104K)</td>\n",
       "      <td>77.0</td>\n",
       "    </tr>\n",
       "    <tr>\n",
       "      <th>999</th>\n",
       "      <td>1000</td>\n",
       "      <td>1975</td>\n",
       "      <td>1h 25m</td>\n",
       "      <td>9</td>\n",
       "      <td>7.6</td>\n",
       "      <td>(41K)</td>\n",
       "      <td>89.0</td>\n",
       "    </tr>\n",
       "  </tbody>\n",
       "</table>\n",
       "<p>1000 rows × 7 columns</p>\n",
       "</div>"
      ],
      "text/plain": [
       "     rank  year duration  age_limit  rating numberof_ratings  Metascore\n",
       "0       1  1994   2h 22m          2     9.3           (2.9M)       82.0\n",
       "1       2  1972   2h 55m          2     9.2             (2M)      100.0\n",
       "2       3  2008   2h 32m          1     9.0           (2.9M)       84.0\n",
       "3       4  2003   3h 21m          1     9.0             (2M)       94.0\n",
       "4       5  1993   3h 15m          2     9.0           (1.5M)       95.0\n",
       "..    ...   ...      ...        ...     ...              ...        ...\n",
       "995   996  1991   1h 56m          2     7.6           (129K)       69.0\n",
       "996   997  1993    3h 8m          4     7.6            (48K)       81.0\n",
       "997   998  2007    2h 2m          2     7.6            (69K)       78.0\n",
       "998   999  2013   1h 38m          1     7.6           (104K)       77.0\n",
       "999  1000  1975   1h 25m          9     7.6            (41K)       89.0\n",
       "\n",
       "[1000 rows x 7 columns]"
      ]
     },
     "execution_count": 51,
     "metadata": {},
     "output_type": "execute_result"
    }
   ],
   "source": [
    "df"
   ]
  },
  {
   "cell_type": "code",
   "execution_count": 52,
   "metadata": {},
   "outputs": [
    {
     "data": {
      "text/plain": [
       "rank                  0\n",
       "year                  0\n",
       "duration              0\n",
       "age_limit             0\n",
       "rating                0\n",
       "numberof_ratings      0\n",
       "Metascore           158\n",
       "dtype: int64"
      ]
     },
     "execution_count": 52,
     "metadata": {},
     "output_type": "execute_result"
    }
   ],
   "source": [
    "df.isnull().sum()"
   ]
  },
  {
   "cell_type": "code",
   "execution_count": 53,
   "metadata": {},
   "outputs": [
    {
     "data": {
      "text/plain": [
       "<Axes: xlabel='Metascore'>"
      ]
     },
     "execution_count": 53,
     "metadata": {},
     "output_type": "execute_result"
    },
    {
     "data": {
      "image/png": "[encoded data removed]",
      "text/plain": [
       "<Figure size 640x480 with 1 Axes>"
      ]
     },
     "metadata": {},
     "output_type": "display_data"
    }
   ],
   "source": [
    "sns.boxplot(x = df['Metascore'])"
   ]
  },
  {
   "cell_type": "code",
   "execution_count": 54,
   "metadata": {},
   "outputs": [],
   "source": [
    "def outlierThreshold(df, col, q1 = 0.25, q3 = 0.75):\n",
    "    quantile1 = df[col].quantile(q1)\n",
    "    quantile3 = df[col].quantile(q3)\n",
    "    iqr = quantile3 - quantile1\n",
    "    low_limit = quantile1 - (1.5 * iqr)\n",
    "    upper_limit = quantile3 + (1.5 * iqr)\n",
    "    return low_limit, upper_limit"
   ]
  },
  {
   "cell_type": "code",
   "execution_count": 55,
   "metadata": {},
   "outputs": [],
   "source": [
    "def replaceWithThreshold(df, col):\n",
    "    low_limit, upper_limit = outlierThreshold(df, col)\n",
    "    df.loc[(df[col] < low_limit), col] = low_limit\n",
    "    df.loc[(df[col] > upper_limit), col] = upper_limit"
   ]
  },
  {
   "cell_type": "code",
   "execution_count": 56,
   "metadata": {},
   "outputs": [],
   "source": [
    "replaceWithThreshold(df, 'Metascore')"
   ]
  },
  {
   "cell_type": "code",
   "execution_count": 57,
   "metadata": {},
   "outputs": [
    {
     "data": {
      "text/plain": [
       "<Axes: xlabel='Metascore'>"
      ]
     },
     "execution_count": 57,
     "metadata": {},
     "output_type": "execute_result"
    },
    {
     "data": {
      "image/png": "[encoded data removed]",
      "text/plain": [
       "<Figure size 640x480 with 1 Axes>"
      ]
     },
     "metadata": {},
     "output_type": "display_data"
    }
   ],
   "source": [
    "sns.boxplot(x = df['Metascore'])"
   ]
  },
  {
   "cell_type": "code",
   "execution_count": 58,
   "metadata": {},
   "outputs": [
    {
     "name": "stdout",
     "output_type": "stream",
     "text": [
      "<class 'pandas.core.frame.DataFrame'>\n",
      "RangeIndex: 1000 entries, 0 to 999\n",
      "Data columns (total 7 columns):\n",
      " #   Column            Non-Null Count  Dtype  \n",
      "---  ------            --------------  -----  \n",
      " 0   rank              1000 non-null   int64  \n",
      " 1   year              1000 non-null   int64  \n",
      " 2   duration          1000 non-null   object \n",
      " 3   age_limit         1000 non-null   int8   \n",
      " 4   rating            1000 non-null   float64\n",
      " 5   numberof_ratings  1000 non-null   object \n",
      " 6   Metascore         842 non-null    float64\n",
      "dtypes: float64(2), int64(2), int8(1), object(2)\n",
      "memory usage: 48.0+ KB\n"
     ]
    }
   ],
   "source": [
    "df.info()"
   ]
  },
  {
   "cell_type": "code",
   "execution_count": 59,
   "metadata": {},
   "outputs": [
    {
     "data": {
      "text/plain": [
       "<Axes: xlabel='rating'>"
      ]
     },
     "execution_count": 59,
     "metadata": {},
     "output_type": "execute_result"
    },
    {
     "data": {
      "image/png": "[encoded data removed]",
      "text/plain": [
       "<Figure size 640x480 with 1 Axes>"
      ]
     },
     "metadata": {},
     "output_type": "display_data"
    }
   ],
   "source": [
    "sns.boxplot(x = df['rating'])"
   ]
  },
  {
   "cell_type": "code",
   "execution_count": 60,
   "metadata": {},
   "outputs": [],
   "source": [
    "replaceWithThreshold(df, 'rating')"
   ]
  },
  {
   "cell_type": "code",
   "execution_count": 61,
   "metadata": {},
   "outputs": [
    {
     "data": {
      "text/plain": [
       "<Axes: xlabel='rating'>"
      ]
     },
     "execution_count": 61,
     "metadata": {},
     "output_type": "execute_result"
    },
    {
     "data": {
      "image/png": "[encoded data removed]",
      "text/plain": [
       "<Figure size 640x480 with 1 Axes>"
      ]
     },
     "metadata": {},
     "output_type": "display_data"
    }
   ],
   "source": [
    "sns.boxplot(x = df['rating'])"
   ]
  },
  {
   "cell_type": "code",
   "execution_count": null,
   "metadata": {},
   "outputs": [],
   "source": []
  }
 ],
 "metadata": {
  "kernelspec": {
   "display_name": "Python 3",
   "language": "python",
   "name": "python3"
  },
  "language_info": {
   "codemirror_mode": {
    "name": "ipython",
    "version": 3
   },
   "file_extension": ".py",
   "mimetype": "text/x-python",
   "name": "python",
   "nbconvert_exporter": "python",
   "pygments_lexer": "ipython3",
   "version": "3.11.6"
  }
 },
 "nbformat": 4,
 "nbformat_minor": 2
}
